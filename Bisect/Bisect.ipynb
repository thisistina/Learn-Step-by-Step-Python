{
 "cells": [
  {
   "cell_type": "code",
   "execution_count": 33,
   "metadata": {},
   "outputs": [],
   "source": [
    "import bisect"
   ]
  },
  {
   "cell_type": "code",
   "execution_count": 34,
   "metadata": {},
   "outputs": [],
   "source": [
    "nums = [1,1,1,2,2,2,4,4,4,4,3,3,3,2,1,1,2,2,2]\n",
    "nums.sort()"
   ]
  },
  {
   "cell_type": "code",
   "execution_count": 35,
   "metadata": {},
   "outputs": [
    {
     "name": "stdout",
     "output_type": "stream",
     "text": [
      "1 1 1 1 1 2 2 2 2 2 2 2 3 3 3 4 4 4 4 5\n",
      "1 1 1 1 1 2 2 2 2 2 2 2 3 3 3 3 4 4 4 4 5\n"
     ]
    }
   ],
   "source": [
    "bisect.insort(nums,5,0,len(nums))\n",
    "print(*nums)\n",
    "bisect.insort(nums,3,0,len(nums))\n",
    "print(*nums)\n"
   ]
  },
  {
   "cell_type": "code",
   "execution_count": 36,
   "metadata": {},
   "outputs": [
    {
     "name": "stdout",
     "output_type": "stream",
     "text": [
      "12 12 True\n",
      "15\n"
     ]
    }
   ],
   "source": [
    "firstidxof3 = bisect.bisect_left(nums,3,0,len(nums))\n",
    "print(firstidxof3,nums.index(3),firstidxof3==nums.index(3))\n",
    "lastidxof3 = bisect.bisect_right(nums,3,0,len(nums))-1\n",
    "print(lastidxof3)"
   ]
  },
  {
   "cell_type": "code",
   "execution_count": 37,
   "metadata": {},
   "outputs": [
    {
     "name": "stdout",
     "output_type": "stream",
     "text": [
      "9\n",
      "9\n"
     ]
    }
   ],
   "source": [
    "arr  = [1,1,1,1,2,2,2,2,2,4,4]\n",
    "firstidxof3 = bisect.bisect_left(arr,3,0,len(arr))\n",
    "print(firstidxof3)\n",
    "lastidxof3 = bisect.bisect_right(arr,3,0,len(arr))\n",
    "print(lastidxof3)\n"
   ]
  },
  {
   "cell_type": "code",
   "execution_count": null,
   "metadata": {},
   "outputs": [],
   "source": []
  }
 ],
 "metadata": {
  "kernelspec": {
   "display_name": "Python 3",
   "language": "python",
   "name": "python3"
  },
  "language_info": {
   "codemirror_mode": {
    "name": "ipython",
    "version": 3
   },
   "file_extension": ".py",
   "mimetype": "text/x-python",
   "name": "python",
   "nbconvert_exporter": "python",
   "pygments_lexer": "ipython3",
   "version": "3.7.7"
  }
 },
 "nbformat": 4,
 "nbformat_minor": 4
}
